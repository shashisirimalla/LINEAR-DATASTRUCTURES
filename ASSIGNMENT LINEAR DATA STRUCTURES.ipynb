{
 "cells": [
  {
   "cell_type": "code",
   "execution_count": 4,
   "id": "782402fa",
   "metadata": {},
   "outputs": [
    {
     "name": "stdout",
     "output_type": "stream",
     "text": [
      "[(2, 10), (4, 8)]\n"
     ]
    }
   ],
   "source": [
    "def find_pairs_with_sum(arr, target_sum):\n",
    "    pairs = []\n",
    "    for i in range(len(arr)):\n",
    "        for j in range(i+1, len(arr)):\n",
    "            if arr[i] + arr[j] == target_sum:\n",
    "                pairs.append((arr[i], arr[j]))\n",
    "    return pairs\n",
    "\n",
    "my_arr = [2, 4, 6, 8, 10]\n",
    "my_sum = 12\n",
    "result = find_pairs_with_sum(my_arr, my_sum)\n",
    "print(result)\n"
   ]
  },
  {
   "cell_type": "code",
   "execution_count": 2,
   "id": "26703160",
   "metadata": {},
   "outputs": [
    {
     "name": "stdout",
     "output_type": "stream",
     "text": [
      "[5, 4, 3, 2, 1]\n"
     ]
    }
   ],
   "source": [
    "def reverse_array_in_place(arr):\n",
    "    left = 0\n",
    "    right = len(arr) - 1\n",
    "    while left < right:\n",
    "        arr[left], arr[right] = arr[right], arr[left]\n",
    "        left += 1\n",
    "        right -= 1\n",
    "        \n",
    "        \n",
    "my_arr = [1, 2, 3, 4, 5]\n",
    "reverse_array_in_place(my_arr)\n",
    "print(my_arr)\n"
   ]
  },
  {
   "cell_type": "code",
   "execution_count": 6,
   "id": "9289e60a",
   "metadata": {},
   "outputs": [
    {
     "name": "stdout",
     "output_type": "stream",
     "text": [
      "True\n"
     ]
    }
   ],
   "source": [
    "def is_rotation(str1, str2):\n",
    "    if len(str1) != len(str2):\n",
    "        return False\n",
    "    str1_str1 = str1 + str1\n",
    "    if str2 in str1_str1:\n",
    "        return True\n",
    "    else:\n",
    "        return False\n",
    "    \n",
    "my_str1 = \"abcd\"\n",
    "my_str2 = \"cdab\"\n",
    "result = is_rotation(my_str1, my_str2)\n",
    "print(result)\n",
    "\n"
   ]
  },
  {
   "cell_type": "code",
   "execution_count": 5,
   "id": "dd4ebad2",
   "metadata": {},
   "outputs": [
    {
     "name": "stdout",
     "output_type": "stream",
     "text": [
      "c\n"
     ]
    }
   ],
   "source": [
    "def find_first_non_repeated_char(my_str):\n",
    "    char_counts = {}\n",
    "\n",
    "    for char in my_str:\n",
    "        if char in char_counts:\n",
    "            char_counts[char] += 1\n",
    "        else:\n",
    "            char_counts[char] = 1\n",
    "\n",
    "    for char in my_str:\n",
    "        if char_counts[char] == 1:\n",
    "            return char\n",
    "\n",
    "    return None\n",
    "\n",
    "my_str = \"aabbcddde\"\n",
    "result = find_first_non_repeated_char(my_str)\n",
    "print(result)\n"
   ]
  },
  {
   "cell_type": "code",
   "execution_count": 11,
   "id": "33441c15",
   "metadata": {},
   "outputs": [
    {
     "name": "stdout",
     "output_type": "stream",
     "text": [
      "MOVE DISK 1 FROM X to Y\n",
      "MOVE DISK 2 from X to Z\n",
      "MOVE DISK 1 FROM Y to Z\n",
      "MOVE DISK 3 from X to Y\n",
      "MOVE DISK 1 FROM Z to X\n",
      "MOVE DISK 2 from Z to Y\n",
      "MOVE DISK 1 FROM X to Y\n"
     ]
    }
   ],
   "source": [
    "def tower_of_hanoi(n, source, destination, auxiliary):\n",
    "    if n == 1:\n",
    "        print(\"MOVE DISK 1 FROM\", source, \"to\", destination)\n",
    "        return\n",
    "    tower_of_hanoi(n-1, source, auxiliary, destination)\n",
    "    print(\"MOVE DISK\", n, \"from\", source, \"to\", destination)\n",
    "    tower_of_hanoi(n-1, auxiliary, destination, source)\n",
    "\n",
    "tower_of_hanoi(3, \"X\", \"Y\", \"Z\")\n"
   ]
  },
  {
   "cell_type": "code",
   "execution_count": 20,
   "id": "78e3c07d",
   "metadata": {},
   "outputs": [
    {
     "name": "stdout",
     "output_type": "stream",
     "text": [
      "*8+65\n"
     ]
    }
   ],
   "source": [
    "def postfix_to_prefix(postfix):\n",
    "    stack = []\n",
    "    operators = set(['+', '-', '*', '/', '^'])\n",
    "\n",
    "    for char in postfix:\n",
    "        if char not in operators:\n",
    "            stack.append(char)\n",
    "        else:\n",
    "            X = stack.pop()\n",
    "            Y = stack.pop()\n",
    "            prefix = char + X + Y\n",
    "            stack.append(prefix)\n",
    "\n",
    "    return stack.pop()\n",
    "\n",
    "\n",
    "postfix = \"56+8*\"\n",
    "prefix = postfix_to_prefix(postfix)\n",
    "print(prefix)\n",
    "\n"
   ]
  },
  {
   "cell_type": "code",
   "execution_count": 22,
   "id": "7cca8b31",
   "metadata": {},
   "outputs": [
    {
     "name": "stdout",
     "output_type": "stream",
     "text": [
      "((6*5)+(9*8))\n"
     ]
    }
   ],
   "source": [
    "def prefix_to_infix(prefix):\n",
    "    stack = []\n",
    "    operators = set(['+', '-', '*', '/', '^'])\n",
    "\n",
    "    for char in reversed(prefix):\n",
    "        if char not in operators:\n",
    "            stack.append(char)\n",
    "        else:\n",
    "            A = stack.pop()\n",
    "            B = stack.pop()\n",
    "            infix = '(' + A + char + B + ')'\n",
    "            stack.append(infix)\n",
    "\n",
    "    return stack.pop()\n",
    "\n",
    "prefix = \"+*65*98\"\n",
    "infix = prefix_to_infix(prefix)\n",
    "print(infix)\n"
   ]
  },
  {
   "cell_type": "code",
   "execution_count": 23,
   "id": "d2797778",
   "metadata": {},
   "outputs": [
    {
     "name": "stdout",
     "output_type": "stream",
     "text": [
      "All brackets are closed.\n"
     ]
    }
   ],
   "source": [
    "def check_brackets(code):\n",
    "    stack = []\n",
    "    brackets = {'(': ')', '{': '}', '[': ']'}\n",
    "    \n",
    "    for char in code:\n",
    "        if char in brackets:\n",
    "            stack.append(char)\n",
    "        elif char in brackets.values():\n",
    "            if not stack:\n",
    "                return False\n",
    "            top = stack.pop()\n",
    "            if brackets[top] != char:\n",
    "                return False\n",
    "    \n",
    "    return not stack\n",
    "\n",
    "code = \"\"\"\n",
    "def hello_world():\n",
    "    print(\"Hello, World!\")\n",
    "\"\"\"\n",
    "\n",
    "if check_brackets(code):\n",
    "    print(\"All brackets are closed.\")\n",
    "else:\n",
    "    print(\"Brackets are not closed.\")\n"
   ]
  },
  {
   "cell_type": "code",
   "execution_count": 28,
   "id": "68fea0e7",
   "metadata": {},
   "outputs": [
    {
     "name": "stdout",
     "output_type": "stream",
     "text": [
      "The reversed stack is: [7, 6, 5, 4, 3]\n"
     ]
    }
   ],
   "source": [
    "def reverse_stack(stack):\n",
    "    \n",
    "    reversed_stack = []\n",
    "\n",
    "    while stack:\n",
    "        element = stack.pop()\n",
    "        reversed_stack.append(element)\n",
    "\n",
    "    return reversed_stack\n",
    "\n",
    "stack = [3, 4, 5, 6, 7]\n",
    "reversed_stack = reverse_stack(stack)\n",
    "print(\"The reversed stack is:\", reversed_stack)"
   ]
  },
  {
   "cell_type": "code",
   "execution_count": 29,
   "id": "37963e9a",
   "metadata": {},
   "outputs": [
    {
     "name": "stdout",
     "output_type": "stream",
     "text": [
      "1\n",
      "2\n"
     ]
    }
   ],
   "source": [
    "class MinStack:\n",
    "    def __init__(self):\n",
    "        self.stack = []\n",
    "        self.min_stack = []\n",
    "        \n",
    "    def push(self, value):\n",
    "        self.stack.append(value)\n",
    "        if not self.min_stack or value <= self.min_stack[-1]:\n",
    "            self.min_stack.append(value)\n",
    "    \n",
    "    def pop(self):\n",
    "        if self.stack:\n",
    "            value = self.stack.pop()\n",
    "            if value == self.min_stack[-1]:\n",
    "                self.min_stack.pop()\n",
    "            return value\n",
    "    \n",
    "    def get_min(self):\n",
    "        if self.min_stack:\n",
    "            return self.min_stack[-1]\n",
    "\n",
    "    \n",
    "stack = MinStack()\n",
    "stack.push(5)\n",
    "stack.push(2)\n",
    "stack.push(7)\n",
    "stack.push(1)\n",
    "\n",
    "print(stack.get_min()) \n",
    "\n",
    "stack.pop()\n",
    "\n",
    "print(stack.get_min())\n"
   ]
  },
  {
   "cell_type": "code",
   "execution_count": null,
   "id": "8b155e2f",
   "metadata": {},
   "outputs": [],
   "source": []
  }
 ],
 "metadata": {
  "kernelspec": {
   "display_name": "Python 3 (ipykernel)",
   "language": "python",
   "name": "python3"
  },
  "language_info": {
   "codemirror_mode": {
    "name": "ipython",
    "version": 3
   },
   "file_extension": ".py",
   "mimetype": "text/x-python",
   "name": "python",
   "nbconvert_exporter": "python",
   "pygments_lexer": "ipython3",
   "version": "3.9.13"
  }
 },
 "nbformat": 4,
 "nbformat_minor": 5
}
