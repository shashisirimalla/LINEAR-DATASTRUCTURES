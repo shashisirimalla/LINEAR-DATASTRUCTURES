{
 "cells": [
  {
   "cell_type": "code",
   "execution_count": 14,
   "id": "5d50dcaa",
   "metadata": {},
   "outputs": [
    {
     "name": "stdout",
     "output_type": "stream",
     "text": [
      "great hello hiyo abc\n",
      "['great', 'abc', 'hello', 'hiyo']\n"
     ]
    }
   ],
   "source": [
    "lst = input().strip().split()\n",
    "n = len(lst)\n",
    "\n",
    "sorted_lst = sorted(lst, key=lambda x: x[-2] if len(x) >= 2 else x[-1])\n",
    "\n",
    "print(sorted_lst)\n"
   ]
  },
  {
   "cell_type": "code",
   "execution_count": 30,
   "id": "693ead7f",
   "metadata": {},
   "outputs": [
    {
     "name": "stdout",
     "output_type": "stream",
     "text": [
      "3 4 5\n",
      "24 24\n",
      "Invalid triangle\n",
      "Valid rectangle\n"
     ]
    }
   ],
   "source": [
    "class Shape:\n",
    "    def __init__(self):\n",
    "        pass\n",
    "\n",
    "class Triangle(Shape):\n",
    "    def __init__(self, a, b, c):\n",
    "        Shape.__init__(self)\n",
    "        self.a = a\n",
    "        self.b = b\n",
    "        self.c = c\n",
    "    \n",
    "    def validate_triangle(self):\n",
    "        if self.a + self.b <= self.c or self.b + self.c <= self.a or self.c + self.a <= self.b:\n",
    "            print(\"Invalid triangle\")\n",
    "        else:\n",
    "            print(\"Valid triangle\")\n",
    "            \n",
    "class Rectangle(Shape):\n",
    "    def __init__(self, l, b):\n",
    "        Shape.__init__(self)\n",
    "        self.l = l\n",
    "        self.b = b\n",
    "    \n",
    "    def validate_rectangle(self):\n",
    "        if self.l <= 0 or self.b <= 0:\n",
    "            print(\"Invalid rectangle\")\n",
    "        elif self.l != self.b:\n",
    "            print(\"Invalid rectangle\")\n",
    "        elif self.l == self.b:\n",
    "            print(\"Valid rectangle\")\n",
    "\n",
    "a, b, c = map(int, input().split())\n",
    "l, b = map(int, input().split())\n",
    "\n",
    "t = Triangle(a, b, c)\n",
    "r = Rectangle(l, b)\n",
    "\n",
    "t.validate_triangle()\n",
    "r.validate_rectangle()\n"
   ]
  },
  {
   "cell_type": "code",
   "execution_count": null,
   "id": "547d8715",
   "metadata": {},
   "outputs": [],
   "source": []
  }
 ],
 "metadata": {
  "kernelspec": {
   "display_name": "Python 3 (ipykernel)",
   "language": "python",
   "name": "python3"
  },
  "language_info": {
   "codemirror_mode": {
    "name": "ipython",
    "version": 3
   },
   "file_extension": ".py",
   "mimetype": "text/x-python",
   "name": "python",
   "nbconvert_exporter": "python",
   "pygments_lexer": "ipython3",
   "version": "3.9.13"
  }
 },
 "nbformat": 4,
 "nbformat_minor": 5
}
